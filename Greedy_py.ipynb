{
  "nbformat": 4,
  "nbformat_minor": 0,
  "metadata": {
    "colab": {
      "provenance": [],
      "authorship_tag": "ABX9TyM2mTKPNHGztHqYgbdSOMwj",
      "include_colab_link": true
    },
    "kernelspec": {
      "name": "python3",
      "display_name": "Python 3"
    },
    "language_info": {
      "name": "python"
    }
  },
  "cells": [
    {
      "cell_type": "markdown",
      "metadata": {
        "id": "view-in-github",
        "colab_type": "text"
      },
      "source": [
        "<a href=\"https://colab.research.google.com/github/Agum82/Praktikum_Search_Algorithms/blob/main/Greedy_py.ipynb\" target=\"_parent\"><img src=\"https://colab.research.google.com/assets/colab-badge.svg\" alt=\"Open In Colab\"/></a>"
      ]
    },
    {
      "cell_type": "code",
      "source": [
        "from queue import PriorityQueue\n",
        "\n",
        "def greedy_search(graph, start, goal, heuristic):\n",
        "    frontier = PriorityQueue()  # Antrian prioritas berdasarkan heuristic\n",
        "    frontier.put((heuristic[start], start))  # Masukkan node awal\n",
        "    came_from = {}  # Menyimpan jalur\n",
        "    explored = set()  # Menyimpan simpul yang sudah dikunjungi\n",
        "\n",
        "    while not frontier.empty():\n",
        "        _, current_node = frontier.get()  # Ambil simpul dengan nilai heuristic terkecil\n",
        "\n",
        "        if current_node == goal:\n",
        "            print(\"Simpul tujuan ditemukan!\")\n",
        "            path = reconstruct_path(came_from, start, goal)\n",
        "            print(\"Jalur optimal:\", path)\n",
        "            return path\n",
        "\n",
        "        explored.add(current_node)\n",
        "\n",
        "        for neighbor in graph[current_node]:\n",
        "            if neighbor not in explored:\n",
        "                frontier.put((heuristic[neighbor], neighbor))  # Pilih berdasarkan heuristic terkecil\n",
        "                came_from[neighbor] = current_node  # Simpan jalur\n",
        "\n",
        "    print(\"Simpul tujuan tidak ditemukan!\")\n",
        "    return None\n",
        "\n",
        "def reconstruct_path(came_from, start, goal):\n",
        "    current = goal\n",
        "    path = []\n",
        "\n",
        "    while current != start:\n",
        "        path.append(current)\n",
        "        current = came_from[current]\n",
        "\n",
        "    path.append(start)\n",
        "    path.reverse()\n",
        "    return path\n",
        "\n",
        "# Heuristic values (sesuai dengan gambar)\n",
        "heuristic = {\n",
        "    'S': 6, 'A': 4, 'B': 3, 'C': 3, 'D': 1, 'G': 0\n",
        "}\n",
        "\n",
        "# Graph adjacency list (tanpa bobot, karena Greedy hanya melihat heuristic)\n",
        "graph = {\n",
        "    'S': ['A', 'B'],\n",
        "    'A': ['B', 'D'],\n",
        "    'B': ['C'],\n",
        "    'C': ['D', 'G'],\n",
        "    'D': ['G']\n",
        "}\n",
        "\n",
        "# Define start and goal nodes\n",
        "start_node = 'S'\n",
        "goal_node = 'G'\n",
        "\n",
        "# Run Greedy Best-First Search\n",
        "greedy_search(graph, start_node, goal_node, heuristic)\n"
      ],
      "metadata": {
        "colab": {
          "base_uri": "https://localhost:8080/"
        },
        "id": "6C2wBMtffDh5",
        "outputId": "65d358b8-524b-42ce-c5fb-63c88a65a120"
      },
      "execution_count": 1,
      "outputs": [
        {
          "output_type": "stream",
          "name": "stdout",
          "text": [
            "Simpul tujuan ditemukan!\n",
            "Jalur optimal: ['S', 'B', 'C', 'G']\n"
          ]
        },
        {
          "output_type": "execute_result",
          "data": {
            "text/plain": [
              "['S', 'B', 'C', 'G']"
            ]
          },
          "metadata": {},
          "execution_count": 1
        }
      ]
    }
  ]
}