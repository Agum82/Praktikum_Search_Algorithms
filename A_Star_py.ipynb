{
  "nbformat": 4,
  "nbformat_minor": 0,
  "metadata": {
    "colab": {
      "provenance": [],
      "authorship_tag": "ABX9TyMkFrO7Q1OdgDfj07LfjyNg",
      "include_colab_link": true
    },
    "kernelspec": {
      "name": "python3",
      "display_name": "Python 3"
    },
    "language_info": {
      "name": "python"
    }
  },
  "cells": [
    {
      "cell_type": "markdown",
      "metadata": {
        "id": "view-in-github",
        "colab_type": "text"
      },
      "source": [
        "<a href=\"https://colab.research.google.com/github/Agum82/Praktikum_Search_Algorithms/blob/main/A_Star_py.ipynb\" target=\"_parent\"><img src=\"https://colab.research.google.com/assets/colab-badge.svg\" alt=\"Open In Colab\"/></a>"
      ]
    },
    {
      "cell_type": "code",
      "execution_count": 10,
      "metadata": {
        "colab": {
          "base_uri": "https://localhost:8080/"
        },
        "id": "TzRYa3QbfkYW",
        "outputId": "6d389877-6846-4ca2-80cf-c11d005634c6"
      },
      "outputs": [
        {
          "output_type": "stream",
          "name": "stdout",
          "text": [
            "Goal node found!\n",
            "Optimal route: ['S', 'B', 'C', 'D', 'G']\n"
          ]
        },
        {
          "output_type": "execute_result",
          "data": {
            "text/plain": [
              "True"
            ]
          },
          "metadata": {},
          "execution_count": 10
        }
      ],
      "source": [
        "from queue import PriorityQueue\n",
        "\n",
        "def a_star_graph_search(graph, start, goal, heuristic):\n",
        "    frontier = PriorityQueue()\n",
        "    frontier.put((0, start))  # (Priority, Node)\n",
        "    explored = set()\n",
        "    path = {}\n",
        "\n",
        "    while not frontier.empty():\n",
        "        _, current_node = frontier.get()\n",
        "\n",
        "        if current_node == goal:\n",
        "            print(\"Goal node found!\")\n",
        "            route = reconstruct_path(path, start, goal)\n",
        "            print(\"Optimal route:\", route)\n",
        "            return True\n",
        "\n",
        "        explored.add(current_node)\n",
        "\n",
        "        for neighbor, cost in graph[current_node].items():\n",
        "            if neighbor not in explored:\n",
        "                total_cost = cost + heuristic[neighbor]\n",
        "                frontier.put((total_cost, neighbor))\n",
        "                path[neighbor] = current_node\n",
        "\n",
        "    print(\"Goal node not found!\")\n",
        "    return False\n",
        "\n",
        "def reconstruct_path(path, start, goal):\n",
        "    current = goal\n",
        "    route = [current]\n",
        "    while current != start:\n",
        "        current = path[current]\n",
        "        route.append(current)\n",
        "    route.reverse()\n",
        "    return route\n",
        "\n",
        "# Heuristic values (sesuai dengan gambar)\n",
        "heuristic = {\n",
        "    'S': 6, 'A': 4, 'B': 3, 'C': 3, 'D': 1, 'G': 0\n",
        "}\n",
        "\n",
        "# Graph adjacency list with costs (sesuai dengan gambar)\n",
        "graph = {\n",
        "    'S': {'A': 3, 'B': 2},\n",
        "    'A': {'B': 1, 'D': 5},\n",
        "    'B': {'C': 2},\n",
        "    'C': {'D': 3, 'G': 4},\n",
        "    'D': {'G': 1}\n",
        "}\n",
        "\n",
        "# Define start and goal nodes\n",
        "start_node = 'S'\n",
        "goal_node = 'G'\n",
        "\n",
        "# Run A* Graph Search\n",
        "a_star_graph_search(graph, start_node, goal_node, heuristic)\n"
      ]
    }
  ]
}